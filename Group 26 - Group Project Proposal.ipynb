{
 "cells": [
  {
   "cell_type": "markdown",
   "id": "36fbb363-01e2-43ca-b095-6294794b2e8e",
   "metadata": {},
   "source": [
    "Group 26 group project \n",
    "Title:"
   ]
  }
 ],
 "metadata": {
  "kernelspec": {
   "display_name": "Python 3 (ipykernel)",
   "language": "python",
   "name": "python3"
  },
  "language_info": {
   "codemirror_mode": {
    "name": "ipython",
    "version": 3
   },
   "file_extension": ".py",
   "mimetype": "text/x-python",
   "name": "python",
   "nbconvert_exporter": "python",
   "pygments_lexer": "ipython3",
   "version": "3.10.8"
  }
 },
 "nbformat": 4,
 "nbformat_minor": 5
}
